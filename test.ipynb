{
 "cells": [
  {
   "cell_type": "code",
   "execution_count": 1,
   "metadata": {},
   "outputs": [
    {
     "name": "stdout",
     "output_type": "stream",
     "text": [
      "[' words in нет']\n"
     ]
    }
   ],
   "source": [
    "import whisper\n",
    "import warnings\n",
    "\n",
    "warnings.filterwarnings(\"ignore\")\n",
    "\n",
    "model = whisper.load_model(\"base\")\n",
    "\n",
    "options = dict(language=\"en\", best_of=1)\n",
    "transcribe_options = dict(task=\"transcribe\", **options)\n",
    "translate_options = dict(task=\"translate\", **options)\n",
    "\n",
    "translations = list()\n",
    "\n",
    "audio = \"recording.wav\"\n",
    "translation  = model.transcribe(audio, **translate_options)[\"text\"]\n",
    "# translation = model.transcribe(audio, language=\"en\", task=\"translate\")[\"text\"]\n",
    "translations.append(translation)\n",
    "\n",
    "print(translations)\n"
   ]
  },
  {
   "cell_type": "code",
   "execution_count": null,
   "metadata": {},
   "outputs": [],
   "source": [
    "# Ah 😅🤣\n"
   ]
  }
 ],
 "metadata": {
  "kernelspec": {
   "display_name": "modelapis",
   "language": "python",
   "name": "python3"
  },
  "language_info": {
   "codemirror_mode": {
    "name": "ipython",
    "version": 3
   },
   "file_extension": ".py",
   "mimetype": "text/x-python",
   "name": "python",
   "nbconvert_exporter": "python",
   "pygments_lexer": "ipython3",
   "version": "3.12.4"
  }
 },
 "nbformat": 4,
 "nbformat_minor": 2
}
